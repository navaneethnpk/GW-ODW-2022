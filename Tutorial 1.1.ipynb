{
 "cells": [
  {
   "cell_type": "code",
   "execution_count": 1,
   "id": "20f979bd",
   "metadata": {},
   "outputs": [],
   "source": [
    "import gwosc"
   ]
  },
  {
   "cell_type": "code",
   "execution_count": 2,
   "id": "aabc3c3f",
   "metadata": {},
   "outputs": [
    {
     "name": "stdout",
     "output_type": "stream",
     "text": [
      "0.5.4\n"
     ]
    }
   ],
   "source": [
    "print(gwosc.__version__)"
   ]
  },
  {
   "cell_type": "code",
   "execution_count": 3,
   "id": "305fbb6a",
   "metadata": {},
   "outputs": [],
   "source": [
    "#The module gwosc.datasets provides tools for searching for datasets, including events, catalogs and full run strain data releases."
   ]
  },
  {
   "cell_type": "code",
   "execution_count": 4,
   "id": "9f28bfc0",
   "metadata": {},
   "outputs": [],
   "source": [
    "from gwosc.datasets import find_datasets\n",
    "from gwosc import datasets"
   ]
  },
  {
   "cell_type": "code",
   "execution_count": 9,
   "id": "ce7df24c",
   "metadata": {},
   "outputs": [
    {
     "name": "stdout",
     "output_type": "stream",
     "text": [
      "['GWTC-1-confident', 'GWTC-1-marginal', 'GWTC-2', 'GWTC-2.1-auxiliary', 'GWTC-2.1-confident', 'GWTC-2.1-marginal', 'GWTC-3-confident', 'GWTC-3-marginal', 'Initial_LIGO_Virgo', 'O1_O2-Preliminary', 'O3_Discovery_Papers', 'O3_IMBH_marginal']\n"
     ]
    }
   ],
   "source": [
    "#-- List all available catalogs\n",
    "print(find_datasets(type=\"catalog\"))"
   ]
  },
  {
   "cell_type": "code",
   "execution_count": 11,
   "id": "094f31c1",
   "metadata": {},
   "outputs": [
    {
     "name": "stdout",
     "output_type": "stream",
     "text": [
      "GWTC-1 events: ['GW150914-v3', 'GW151012-v3', 'GW151226-v2', 'GW170104-v2', 'GW170608-v3', 'GW170729-v1', 'GW170809-v1', 'GW170814-v3', 'GW170817-v3', 'GW170818-v1', 'GW170823-v1']\n"
     ]
    }
   ],
   "source": [
    "#-- Print all the GW events from the GWTC-1 catalog\n",
    "gwtc1 = datasets.find_datasets(type='events', catalog='GWTC-1-confident')\n",
    "print('GWTC-1 events:', gwtc1)"
   ]
  },
  {
   "cell_type": "code",
   "execution_count": 12,
   "id": "09748c78",
   "metadata": {},
   "outputs": [],
   "source": [
    "#Note that the event name is of the type GWyymmdd-vx where x is the last available version for the data set provided by GWOSC."
   ]
  },
  {
   "cell_type": "code",
   "execution_count": 13,
   "id": "7c74a16e",
   "metadata": {},
   "outputs": [
    {
     "name": "stdout",
     "output_type": "stream",
     "text": [
      "Large data sets: ['BKGW170608_16KHZ_R1', 'O1', 'O1_16KHZ', 'O2_16KHZ_R1', 'O2_4KHZ_R1', 'O3GK_16KHZ_R1', 'O3GK_4KHZ_R1', 'O3a_16KHZ_R1', 'O3a_4KHZ_R1', 'O3b_16KHZ_R1', 'O3b_4KHZ_R1', 'S5', 'S6']\n"
     ]
    }
   ],
   "source": [
    "#-- Print all the large strain data sets from LIGO/Virgo observing runs\n",
    "runs = find_datasets(type='run')\n",
    "print('Large data sets:', runs)"
   ]
  },
  {
   "cell_type": "code",
   "execution_count": 14,
   "id": "d32bb011",
   "metadata": {},
   "outputs": [],
   "source": [
    "#Note that the most recent observation runs, e.g. O2, are labeled with names containing the name of the run (e.g. O2), the sampling rate (4 or 16 kHz) and the release version (e.g. R1). This means that for O2 you have two labels 'O2_4KHZ_R1' and 'O2_16KHZR1', depending which is the desired sampling rate"
   ]
  },
  {
   "cell_type": "code",
   "execution_count": 15,
   "id": "afef3c94",
   "metadata": {},
   "outputs": [
    {
     "name": "stdout",
     "output_type": "stream",
     "text": [
      "['GW170104-v2', 'GW170608-v3', 'GW170729-v1', 'GW170809-v1', 'GW170814-v3', 'GW170817-v3', 'GW170818-v1', 'GW170823-v1']\n"
     ]
    }
   ],
   "source": [
    "#-- Detector and segments keywords limit search result\n",
    "print(datasets.find_datasets(type='events', catalog='GWTC-1-confident', detector=\"L1\", segment=(1164556817, 1187733618)))"
   ]
  },
  {
   "cell_type": "code",
   "execution_count": 16,
   "id": "3ceee200",
   "metadata": {},
   "outputs": [],
   "source": [
    "#datasets.find_datasets also accepts a segment and detector keyword to narrow results based on GPS time and detector:"
   ]
  },
  {
   "cell_type": "code",
   "execution_count": 17,
   "id": "c636ba3a",
   "metadata": {},
   "outputs": [
    {
     "name": "stdout",
     "output_type": "stream",
     "text": [
      "1240215503.0\n"
     ]
    }
   ],
   "source": [
    "#Using gwosc.datasets.event_gps, we can query for the GPS time of a specific event (it works also without the version number):\n",
    "from gwosc.datasets import event_gps\n",
    "gps = event_gps('GW190425')\n",
    "print(gps)"
   ]
  },
  {
   "cell_type": "code",
   "execution_count": 18,
   "id": "29b1ac30",
   "metadata": {},
   "outputs": [
    {
     "name": "stdout",
     "output_type": "stream",
     "text": [
      "(1126051217, 1137254417)\n"
     ]
    }
   ],
   "source": [
    "#We can query for the GPS time interval for an observing run:\n",
    "from gwosc.datasets import run_segment\n",
    "print(run_segment('O1'))"
   ]
  },
  {
   "cell_type": "code",
   "execution_count": 19,
   "id": "1281f5f8",
   "metadata": {},
   "outputs": [
    {
     "name": "stdout",
     "output_type": "stream",
     "text": [
      "['GW150914-v3', 'GW151012-v3', 'GW151226-v2']\n"
     ]
    }
   ],
   "source": [
    "#To see only the confident events in O1:\n",
    "O1_events = datasets.find_datasets(type='events', catalog='GWTC-1-confident', segment=run_segment('O1'))\n",
    "print(O1_events)"
   ]
  },
  {
   "cell_type": "code",
   "execution_count": 20,
   "id": "7b4cf45d",
   "metadata": {},
   "outputs": [
    {
     "name": "stdout",
     "output_type": "stream",
     "text": [
      "['https://www.gw-openscience.org/eventapi/json/GWTC-1-confident/GW150914/v3/H-H1_GWOSC_4KHZ_R1-1126259447-32.hdf5', 'https://www.gw-openscience.org/eventapi/json/GWTC-1-confident/GW150914/v3/H-H1_GWOSC_4KHZ_R1-1126257415-4096.hdf5', 'https://www.gw-openscience.org/eventapi/json/GWTC-1-confident/GW150914/v3/L-L1_GWOSC_4KHZ_R1-1126259447-32.hdf5', 'https://www.gw-openscience.org/eventapi/json/GWTC-1-confident/GW150914/v3/L-L1_GWOSC_4KHZ_R1-1126257415-4096.hdf5']\n"
     ]
    }
   ],
   "source": [
    "#The gwosc.locate module provides a function to find the URLs of data files associated with a given dataset.\n",
    "#For event datasets, one can get the list of URLs using only the event name:\n",
    "from gwosc.locate import get_event_urls\n",
    "urls = get_event_urls('GW150914')\n",
    "print(urls)"
   ]
  },
  {
   "cell_type": "code",
   "execution_count": 21,
   "id": "6da13916",
   "metadata": {},
   "outputs": [
    {
     "name": "stdout",
     "output_type": "stream",
     "text": [
      "['https://www.gw-openscience.org/eventapi/json/GWTC-1-confident/GW150914/v3/L-L1_GWOSC_4KHZ_R1-1126259447-32.hdf5']\n"
     ]
    }
   ],
   "source": [
    "urls = get_event_urls('GW150914', duration=32, detector='L1')\n",
    "print(urls)"
   ]
  },
  {
   "cell_type": "markdown",
   "id": "6e8e80d5",
   "metadata": {},
   "source": [
    "## Exercises"
   ]
  },
  {
   "cell_type": "markdown",
   "id": "95c255cb",
   "metadata": {},
   "source": [
    "### 1. How many months did O2 last?"
   ]
  },
  {
   "cell_type": "code",
   "execution_count": 23,
   "id": "d63dbb81",
   "metadata": {},
   "outputs": [
    {
     "name": "stdout",
     "output_type": "stream",
     "text": [
      "['BKGW170608_16KHZ_R1', 'O1', 'O1_16KHZ', 'O2_16KHZ_R1', 'O2_4KHZ_R1', 'O3GK_16KHZ_R1', 'O3GK_4KHZ_R1', 'O3a_16KHZ_R1', 'O3a_4KHZ_R1', 'O3b_16KHZ_R1', 'O3b_4KHZ_R1', 'S5', 'S6']\n"
     ]
    }
   ],
   "source": [
    "from gwosc.datasets import find_datasets\n",
    "ans = find_datasets(type=\"run\")\n",
    "print(ans)"
   ]
  },
  {
   "cell_type": "code",
   "execution_count": 30,
   "id": "0eacc5a9",
   "metadata": {},
   "outputs": [
    {
     "name": "stdout",
     "output_type": "stream",
     "text": [
      "(1164556817, 1187733618)\n"
     ]
    }
   ],
   "source": [
    "from gwosc.datasets import run_segment\n",
    "print(run_segment('O2_16KHZ_R1'))"
   ]
  },
  {
   "cell_type": "code",
   "execution_count": 38,
   "id": "d501b24d",
   "metadata": {},
   "outputs": [],
   "source": [
    "from gwpy.time import tconvert\n",
    "start, end = (run_segment('O2_16KHZ_R1'))\n",
    "start_t = tconvert(start)\n",
    "end_t = tconvert(end)"
   ]
  },
  {
   "cell_type": "code",
   "execution_count": 49,
   "id": "1532f056",
   "metadata": {},
   "outputs": [
    {
     "name": "stdout",
     "output_type": "stream",
     "text": [
      "How many months did O2 last = 9\n"
     ]
    }
   ],
   "source": [
    "dur = end_t -start_t\n",
    "months = dur.days/30\n",
    "#print(round(months))\n",
    "print(\"How many months did O2 last =\",round(months))"
   ]
  },
  {
   "cell_type": "code",
   "execution_count": 50,
   "id": "fe377038",
   "metadata": {},
   "outputs": [
    {
     "name": "stdout",
     "output_type": "stream",
     "text": [
      "O2 start and stop gps:  (1164556817, 1187733618)\n",
      "months in O2: 8.941667052469136\n"
     ]
    }
   ],
   "source": [
    "#another code\n",
    "from gwosc.datasets import run_segment\n",
    "O2 = run_segment('O2_4KHZ_R1')\n",
    "print('O2 start and stop gps: ', O2)\n",
    "time_seconds = O2[1] - O2[0]\n",
    "month_seconds = 30 * 24 * 3600\n",
    "print('months in O2:', time_seconds / month_seconds)"
   ]
  },
  {
   "cell_type": "markdown",
   "id": "a1a569cd",
   "metadata": {},
   "source": [
    "### How many GWTC-3-confident events were detected during O3b? "
   ]
  },
  {
   "cell_type": "code",
   "execution_count": 51,
   "id": "80a950b1",
   "metadata": {},
   "outputs": [
    {
     "name": "stdout",
     "output_type": "stream",
     "text": [
      "35\n"
     ]
    }
   ],
   "source": [
    "O3bevents = datasets.find_datasets(type='events', catalog='GWTC-3-confident', segment=run_segment('O3b_16KHZ_R1'))\n",
    "print(len(O3bevents))"
   ]
  },
  {
   "cell_type": "code",
   "execution_count": 53,
   "id": "62c103ab",
   "metadata": {},
   "outputs": [
    {
     "name": "stdout",
     "output_type": "stream",
     "text": [
      "35\n"
     ]
    }
   ],
   "source": [
    "#another code\n",
    "from gwosc import datasets\n",
    "from gwosc.datasets import run_segment\n",
    "GWTC3_events = datasets.find_datasets(type='events', catalog='GWTC-3-confident', segment=run_segment('O3b_16KHZ_R1'))\n",
    "print(len(GWTC3_events))"
   ]
  },
  {
   "cell_type": "markdown",
   "id": "b2fbe5ec",
   "metadata": {},
   "source": [
    "### What file URL contains data for V1 4096 seconds around GW170817?"
   ]
  },
  {
   "cell_type": "code",
   "execution_count": 54,
   "id": "24c6996b",
   "metadata": {},
   "outputs": [
    {
     "name": "stdout",
     "output_type": "stream",
     "text": [
      "['https://www.gw-openscience.org/eventapi/json/GWTC-1-confident/GW170817/v3/V-V1_GWOSC_4KHZ_R1-1187006835-4096.hdf5']\n"
     ]
    }
   ],
   "source": [
    "from gwosc.locate import get_event_urls\n",
    "urls = get_event_urls('GW170817', duration=4096, detector='V1')\n",
    "print(urls)"
   ]
  },
  {
   "cell_type": "code",
   "execution_count": 55,
   "id": "028abc92",
   "metadata": {},
   "outputs": [
    {
     "name": "stdout",
     "output_type": "stream",
     "text": [
      "['https://www.gw-openscience.org/eventapi/json/GWTC-1-confident/GW170817/v3/V-V1_GWOSC_4KHZ_R1-1187006835-4096.hdf5']\n"
     ]
    }
   ],
   "source": [
    "#another code\n",
    "from gwosc.locate import get_event_urls\n",
    "url = get_event_urls('GW170817', duration=4096, detector='V1')\n",
    "print(url)"
   ]
  },
  {
   "cell_type": "code",
   "execution_count": null,
   "id": "a513407f",
   "metadata": {},
   "outputs": [],
   "source": []
  }
 ],
 "metadata": {
  "kernelspec": {
   "display_name": "Python 3",
   "language": "python",
   "name": "python3"
  },
  "language_info": {
   "codemirror_mode": {
    "name": "ipython",
    "version": 3
   },
   "file_extension": ".py",
   "mimetype": "text/x-python",
   "name": "python",
   "nbconvert_exporter": "python",
   "pygments_lexer": "ipython3",
   "version": "3.8.8"
  }
 },
 "nbformat": 4,
 "nbformat_minor": 5
}
